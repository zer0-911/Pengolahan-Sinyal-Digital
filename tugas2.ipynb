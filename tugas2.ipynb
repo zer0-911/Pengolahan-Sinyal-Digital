{
 "cells": [
  {
   "cell_type": "markdown",
   "metadata": {},
   "source": [
    "## Normalisasi data"
   ]
  },
  {
   "cell_type": "markdown",
   "metadata": {},
   "source": [
    "Dalam normalisasi data ini dibantu dengan library sklearn. Sklearn merupakan library yang menyediakan fungsi-fungsi untuk membantu proses normalisasi data."
   ]
  },
  {
   "cell_type": "code",
   "execution_count": 36,
   "metadata": {},
   "outputs": [
    {
     "name": "stdout",
     "output_type": "stream",
     "text": [
      "[[0.43685203 0.         0.17474081 0.34948162 0.17474081 0.\n",
      "  0.08737041 0.         0.         0.78633365]]\n"
     ]
    }
   ],
   "source": [
    "\n",
    "from sklearn import preprocessing\n",
    "x_array = [5,0,2,4,2,0,1,0,0,9]\n",
    "normalized_arr = preprocessing.normalize([x_array])\n",
    "print(normalized_arr)"
   ]
  },
  {
   "cell_type": "markdown",
   "metadata": {},
   "source": [
    "## Discrete Fourier Transform"
   ]
  },
  {
   "cell_type": "markdown",
   "metadata": {},
   "source": [
    "Library datetime disini berfungsi untuk mengubah data dari format datetime menjadi format yang lebih mudah dibaca dan untuk mencari nilai waktu pengolahan DFT. Library matplotlib disini digunakan untuk menampilkan grafik plot dari hasil dft"
   ]
  },
  {
   "cell_type": "code",
   "execution_count": 1,
   "metadata": {},
   "outputs": [],
   "source": [
    "from datetime import datetime #importing datetime\n",
    "import matplotlib.pyplot as plt #importing matplotlib"
   ]
  },
  {
   "cell_type": "code",
   "execution_count": 4,
   "metadata": {},
   "outputs": [
    {
     "name": "stdout",
     "output_type": "stream",
     "text": [
      "Hasil dot: (2.00951933+0j)\n",
      "Hasil coef DFT: 2.00951933\n",
      "Hasil dot: (0.8069590048018007-0.08772486779534999j)\n",
      "Hasil coef DFT: 0.8117133039814145\n",
      "Hasil dot: (0.3367344577933064+0.93365200115749j)\n",
      "Hasil coef DFT: 0.9925201027338125\n",
      "Hasil dot: (0.41622667519922935+0.9728837668384176j)\n",
      "Hasil coef DFT: 1.0581812079814654\n",
      "Hasil dot: (-0.2493640477921072+0.34736196944605324j)\n",
      "Hasil coef DFT: 0.42760117650528645\n",
      "Hasil dot: (-0.2621112100000019+1.3560737346557385e-12j)\n",
      "Hasil coef DFT: 0.2621112100000019\n",
      "Hasil dot: (-0.24936404779359694-0.3473619694434533j)\n",
      "Hasil coef DFT: 0.42760117650404317\n",
      "Hasil dot: (0.4162266751961719-0.9728837668379047j)\n",
      "Hasil coef DFT: 1.0581812079797912\n",
      "Hasil dot: (0.3367344577902822-0.9336520011580864j)\n",
      "Hasil coef DFT: 0.9925201027333476\n",
      "Hasil dot: (0.806959004800674+0.08772486779347766j)\n",
      "Hasil coef DFT: 0.811713303980092\n",
      "Duration: 0:00:00.002863\n"
     ]
    },
    {
     "data": {
      "image/png": "[encoded data removed]",
      "text/plain": [
       "<Figure size 432x288 with 1 Axes>"
      ]
     },
     "metadata": {
      "needs_background": "light"
     },
     "output_type": "display_data"
    }
   ],
   "source": [
    "start_time = datetime.now() #memulai waktu\n",
    "x1 = [0.43685203, 0,         0.17474081, 0.34948162, 0.17474081, 0,\n",
    "  0.08737041, 0,         0,         0.78633365] #nilai dari sinyal\n",
    "\n",
    "N = len(x1)\n",
    "e = 2.718281828459045\n",
    "pi = 3.14159265359\n",
    "w = 2*pi/N\n",
    "W = e**(-1j*w)\n",
    "arr = []\n",
    "sum = 0\n",
    "dot = []\n",
    "coef_mag = []\n",
    "hasil = []\n",
    "hasil_dot = []\n",
    "panjang = []\n",
    "Wn =[[0 for x in range (N)] for y in range(N)]\n",
    "def Mag(A, B):\n",
    "    return pow((pow(A, 2) + pow(B, 2)), 0.5)\n",
    "\n",
    "for i in range(N):\n",
    "    for j in range (N):\n",
    "        Wn[i][j] = pow(W, i*j)\n",
    "\n",
    "for i in range(N):\n",
    "    for j in range(N):\n",
    "        arr = pow(W, i*j)\n",
    "        sum = sum + arr * x1[j]\n",
    "    dot = sum\n",
    "    coef_mag = Mag(dot.real, dot.imag)\n",
    "    hasil.append(coef_mag)\n",
    "    panjang.append(i)\n",
    "    hasil_dot.append(dot)\n",
    "    print(\"Hasil dot: \" + str(dot))\n",
    "    print(\"Hasil coef DFT: \" + str(coef_mag))\n",
    "    \n",
    "    sum = 0\n",
    "end_time = datetime.now()\n",
    "print('Duration: {}'.format(end_time - start_time)) #menghitung waktu\n",
    "f = plt.figure()\n",
    "plt.xlabel('n')\n",
    "plt.ylabel('x[n]')\n",
    "plt.title(\"Plot the magnitude of DFT coefficient\")\n",
    "plt.stem(panjang, hasil)  #plotting\n",
    "plt.show()\n",
    "f.savefig('DFTb.png')"
   ]
  },
  {
   "cell_type": "markdown",
   "metadata": {},
   "source": [
    "## Inverse discrete fourier transform"
   ]
  },
  {
   "cell_type": "markdown",
   "metadata": {},
   "source": [
    "Berikut ini adalah hasil dari inverse discrete fourier transform."
   ]
  },
  {
   "cell_type": "code",
   "execution_count": 5,
   "metadata": {},
   "outputs": [
    {
     "name": "stdout",
     "output_type": "stream",
     "text": [
      "Hasil IDFT:  [0.43685202999957584, -1.1286527268339342e-13, 0.1747408099999764, 0.3494816200000143, 0.17474081000004887, 6.501466032204917e-14, 0.08737041000004792, 2.0872192862952943e-14, -4.758415883543421e-14, 0.7863336499997245]\n"
     ]
    }
   ],
   "source": [
    "X_inv = []\n",
    "\n",
    "Wnx = [[0 for x in range(N)] for y in range(N)]\n",
    "for i in range(N):\n",
    "   for j in range(N):\n",
    "       Wnx[j][i] = Wn[i][j].conjugate()\n",
    "\n",
    "\n",
    "for i in range(N):\n",
    "    sum = 0\n",
    "    for j in range(N):\n",
    "        temp = Wnx[i][j] * hasil_dot[j]\n",
    "        sum = sum + temp\n",
    "    X_inv.append(sum.real/N)\n",
    "\n",
    "print(\"Hasil IDFT: \", X_inv)\n",
    "\n"
   ]
  }
 ],
 "metadata": {
  "interpreter": {
   "hash": "916dbcbb3f70747c44a77c7bcd40155683ae19c65e1c03b4aa3499c5328201f1"
  },
  "kernelspec": {
   "display_name": "Python 3 (ipykernel)",
   "language": "python",
   "name": "python3"
  },
  "language_info": {
   "codemirror_mode": {
    "name": "ipython",
    "version": 3
   },
   "file_extension": ".py",
   "mimetype": "text/x-python",
   "name": "python",
   "nbconvert_exporter": "python",
   "pygments_lexer": "ipython3",
   "version": "3.8.10"
  }
 },
 "nbformat": 4,
 "nbformat_minor": 2
}
