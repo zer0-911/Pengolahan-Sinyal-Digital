{
 "cells": [
  {
   "cell_type": "markdown",
   "metadata": {},
   "source": [
    "EAS PSD"
   ]
  },
  {
   "cell_type": "code",
   "execution_count": 1,
   "metadata": {},
   "outputs": [],
   "source": [
    "import numpy as np\n",
    "import math\n",
    "import matplotlib.pyplot as plt"
   ]
  },
  {
   "cell_type": "code",
   "execution_count": 2,
   "metadata": {},
   "outputs": [],
   "source": [
    "phi=3.14159265359\n",
    "def hitung_dft(xn):\n",
    "  start = time.time()\n",
    "  l=len(xn)\n",
    "  x_real=[0]*l\n",
    "  x_img=[0]*l\n",
    "  for k in range(l):\n",
    "    for n in range(l):\n",
    "      x_real[k]= (x_real[k] + xn[n] * math.cos(2 * phi * k * n / l))\n",
    "      x_img[k]= (x_img[k] + xn[n] * math.sin(2 * phi * k * n / l))\n",
    "    #print(x_real[k],\" + j\",x_img[k])\n",
    "  end = time.time()\n",
    "  return x_real,x_img\n",
    "\n",
    "def hitung_dft_N(xn):\n",
    "  l=len(xn)\n",
    "  x_real=[0]*l\n",
    "  x_img=[0]*l\n",
    "  list=[0]*l\n",
    "  for k in range(l):\n",
    "    for n in range(l):\n",
    "      x_real[k]= (x_real[k] + xn[n] * math.cos(2 * phi * k * n / l))\n",
    "      x_img[k]= (x_img[k] + xn[n] * math.sin(2 * phi * k * n / l))\n",
    "    list[k]=math.sqrt(pow(x_real[k],2)+pow(x_img[k],2))\n",
    "  return list\n",
    "\n",
    "def hitung_inverse_dft(xr,xi):\n",
    "\n",
    "  l=len(xr)\n",
    "  xn=[0]*l\n",
    "  for k in range(l):\n",
    "    for n in range(l):\n",
    "      sudut = (2 * phi * k * n) / l\n",
    "      xn[k] = xn[k] + xr[n] * math.cos(sudut)+ xi[n] * math.sin(sudut)\n",
    "    xn[k] = xn[k] / l\n",
    "   # print(\"x[\",k,\"] :\",xn[k])\n",
    "  return xn\n"
   ]
  },
  {
   "cell_type": "code",
   "execution_count": 3,
   "metadata": {},
   "outputs": [],
   "source": [
    "def plot_sinyal(sinyal, title):\n",
    "  x=np.arange(len(sinyal))\n",
    "  plt.title(title)\n",
    "  plt.stem(x,sinyal)"
   ]
  },
  {
   "cell_type": "code",
   "execution_count": 4,
   "metadata": {},
   "outputs": [
    {
     "data": {
      "image/png": "[encoded data removed]",
      "text/plain": [
       "<Figure size 432x288 with 1 Axes>"
      ]
     },
     "metadata": {
      "needs_background": "light"
     },
     "output_type": "display_data"
    }
   ],
   "source": [
    "deret=[0.00, 7.83, 7.09, 0.95, -1.83, -0.00, 0.59, -1.95, -3.09, -0.59, 1.73, 0.82, -0.95, -0.72, 0.24, 0.00, -0.24, 0.72, 0.95, -0.82, -1.73, 0.59, 3.09, 1.95, -0.59, -0.00, 1.83, -0.95, -7.09, -7.83]\n",
    "\n",
    "a=hitung_dft_N(deret)\n",
    "\n",
    "plot_sinyal(a,\"Hasil DFT\")\n",
    "plt.savefig(\"1HasliDFT.jpg\")\n"
   ]
  },
  {
   "cell_type": "code",
   "execution_count": 7,
   "metadata": {},
   "outputs": [
    {
     "ename": "NameError",
     "evalue": "name 'time' is not defined",
     "output_type": "error",
     "traceback": [
      "\u001b[0;31m---------------------------------------------------------------------------\u001b[0m",
      "\u001b[0;31mNameError\u001b[0m                                 Traceback (most recent call last)",
      "\u001b[1;32m/home/iqbalf/Documents/VsCode/Pengolahan Sinyal Digital/EAS.ipynb Cell 6'\u001b[0m in \u001b[0;36m<module>\u001b[0;34m\u001b[0m\n\u001b[0;32m----> <a href='vscode-notebook-cell:/home/iqbalf/Documents/VsCode/Pengolahan%20Sinyal%20Digital/EAS.ipynb#ch0000005?line=0'>1</a>\u001b[0m xr,xn\u001b[39m=\u001b[39mhitung_dft(deret)\n\u001b[1;32m      <a href='vscode-notebook-cell:/home/iqbalf/Documents/VsCode/Pengolahan%20Sinyal%20Digital/EAS.ipynb#ch0000005?line=2'>3</a>\u001b[0m \u001b[39mfor\u001b[39;00m i \u001b[39min\u001b[39;00m \u001b[39mrange\u001b[39m(\u001b[39mlen\u001b[39m(xr)\u001b[39m-\u001b[39m\u001b[39m1\u001b[39m) :\n\u001b[1;32m      <a href='vscode-notebook-cell:/home/iqbalf/Documents/VsCode/Pengolahan%20Sinyal%20Digital/EAS.ipynb#ch0000005?line=3'>4</a>\u001b[0m   \u001b[39mif\u001b[39;00m((i\u001b[39m==\u001b[39m\u001b[39m4\u001b[39m) \u001b[39mand\u001b[39;00m (i\u001b[39m==\u001b[39m\u001b[39m3\u001b[39m) \u001b[39mand\u001b[39;00m (i\u001b[39m==\u001b[39m\u001b[39m2\u001b[39m)):\n",
      "\u001b[1;32m/home/iqbalf/Documents/VsCode/Pengolahan Sinyal Digital/EAS.ipynb Cell 3'\u001b[0m in \u001b[0;36mhitung_dft\u001b[0;34m(xn)\u001b[0m\n\u001b[1;32m      <a href='vscode-notebook-cell:/home/iqbalf/Documents/VsCode/Pengolahan%20Sinyal%20Digital/EAS.ipynb#ch0000002?line=1'>2</a>\u001b[0m \u001b[39mdef\u001b[39;00m \u001b[39mhitung_dft\u001b[39m(xn):\n\u001b[0;32m----> <a href='vscode-notebook-cell:/home/iqbalf/Documents/VsCode/Pengolahan%20Sinyal%20Digital/EAS.ipynb#ch0000002?line=2'>3</a>\u001b[0m   start \u001b[39m=\u001b[39m time\u001b[39m.\u001b[39mtime()\n\u001b[1;32m      <a href='vscode-notebook-cell:/home/iqbalf/Documents/VsCode/Pengolahan%20Sinyal%20Digital/EAS.ipynb#ch0000002?line=3'>4</a>\u001b[0m   l\u001b[39m=\u001b[39m\u001b[39mlen\u001b[39m(xn)\n\u001b[1;32m      <a href='vscode-notebook-cell:/home/iqbalf/Documents/VsCode/Pengolahan%20Sinyal%20Digital/EAS.ipynb#ch0000002?line=4'>5</a>\u001b[0m   x_real\u001b[39m=\u001b[39m[\u001b[39m0\u001b[39m]\u001b[39m*\u001b[39ml\n",
      "\u001b[0;31mNameError\u001b[0m: name 'time' is not defined"
     ]
    }
   ],
   "source": [
    "xr,xn=hitung_dft(deret)\n",
    "\n",
    "for i in range(len(xr)-1) :\n",
    "  if((i==4) and (i==3) and (i==2)):\n",
    "    xr[i]=0.0\n",
    "    xn[i]=0.0\n",
    "b=hitung_inverse_dft(xr,xn)\n",
    "plot_sinyal(b,\"4,3,2 Hz menjadi 0\")\n",
    "plt.savefig(\"24,3,2 Hz menjadi 0.jpg\")"
   ]
  },
  {
   "cell_type": "code",
   "execution_count": null,
   "metadata": {},
   "outputs": [
    {
     "data": {
      "image/png": "[encoded data removed]",
      "text/plain": [
       "<Figure size 432x288 with 1 Axes>"
      ]
     },
     "metadata": {
      "needs_background": "light"
     },
     "output_type": "display_data"
    }
   ],
   "source": [
    "xr,xn=hitung_dft(deret)\n",
    "for i in range(len(xr)-1) :\n",
    "  if(i!=4):\n",
    "    xr[i]=0.0\n",
    "    xn[i]=0.0\n",
    "b=hitung_inverse_dft(xr,xn)\n",
    "plot_sinyal(b,\"Selain 4 Hz menjadi 0\")\n",
    "plt.savefig(\"3 Selain 4 Hz menjadi 0.jpg\")"
   ]
  },
  {
   "cell_type": "code",
   "execution_count": null,
   "metadata": {},
   "outputs": [
    {
     "data": {
      "image/png": "[encoded data removed]",
      "text/plain": [
       "<Figure size 432x288 with 1 Axes>"
      ]
     },
     "metadata": {
      "needs_background": "light"
     },
     "output_type": "display_data"
    }
   ],
   "source": [
    "xr,xn=hitung_dft(deret)\n",
    "for i in range(len(xr)-1) :\n",
    "  if(i!=4) and (i!=3) and (i!=2):\n",
    "    xr[i]=0.0\n",
    "    xn[i]=0.0\n",
    "b=hitung_inverse_dft(xr,xn)\n",
    "plot_sinyal(b,\"Selain 2,3,4 Hz menjadi 0\")\n",
    "plt.savefig(\"42,3,4 Hz menjadi 0.jpg\")"
   ]
  }
 ],
 "metadata": {
  "interpreter": {
   "hash": "e7370f93d1d0cde622a1f8e1c04877d8463912d04d973331ad4851f04de6915a"
  },
  "kernelspec": {
   "display_name": "Python 3.8.10 64-bit",
   "language": "python",
   "name": "python3"
  },
  "language_info": {
   "codemirror_mode": {
    "name": "ipython",
    "version": 3
   },
   "file_extension": ".py",
   "mimetype": "text/x-python",
   "name": "python",
   "nbconvert_exporter": "python",
   "pygments_lexer": "ipython3",
   "version": "3.8.10"
  },
  "orig_nbformat": 4
 },
 "nbformat": 4,
 "nbformat_minor": 2
}
